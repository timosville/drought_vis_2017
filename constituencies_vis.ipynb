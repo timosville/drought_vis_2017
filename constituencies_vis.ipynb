{
 "cells": [
  {
   "cell_type": "code",
   "execution_count": 1,
   "metadata": {
    "collapsed": true,
    "deletable": true,
    "editable": true
   },
   "outputs": [],
   "source": [
    "import os\n",
    "import pandas as pd\n",
    "import geopandas as gpd\n",
    "import json\n",
    "import numpy as np\n",
    "import folium\n",
    "from folium.plugins import MarkerCluster, FloatImage, HeatMap"
   ]
  },
  {
   "cell_type": "code",
   "execution_count": 2,
   "metadata": {
    "collapsed": true,
    "deletable": true,
    "editable": true
   },
   "outputs": [],
   "source": [
    "vci_df = pd.read_csv(os.path.join(\"data\", \"vci_constituency.csv\"))"
   ]
  },
  {
   "cell_type": "code",
   "execution_count": 3,
   "metadata": {
    "collapsed": false,
    "deletable": true,
    "editable": true
   },
   "outputs": [
    {
     "data": {
      "text/html": [
       "<div>\n",
       "<table border=\"1\" class=\"dataframe\">\n",
       "  <thead>\n",
       "    <tr style=\"text-align: right;\">\n",
       "      <th></th>\n",
       "      <th>constituency_name</th>\n",
       "      <th>counstituency_code</th>\n",
       "      <th>vci_aug_16</th>\n",
       "      <th>vci_sep_16</th>\n",
       "      <th>vci_nov_16</th>\n",
       "      <th>vci_dec_16</th>\n",
       "      <th>vci_jan_17</th>\n",
       "    </tr>\n",
       "  </thead>\n",
       "  <tbody>\n",
       "    <tr>\n",
       "      <th>0</th>\n",
       "      <td>GANZE</td>\n",
       "      <td>15</td>\n",
       "      <td>11.85</td>\n",
       "      <td>14.66</td>\n",
       "      <td>2.80</td>\n",
       "      <td>-10.82</td>\n",
       "      <td>2.64</td>\n",
       "    </tr>\n",
       "    <tr>\n",
       "      <th>1</th>\n",
       "      <td>KILIFI NORTH</td>\n",
       "      <td>11</td>\n",
       "      <td>12.36</td>\n",
       "      <td>16.56</td>\n",
       "      <td>-0.08</td>\n",
       "      <td>-23.20</td>\n",
       "      <td>-13.79</td>\n",
       "    </tr>\n",
       "    <tr>\n",
       "      <th>2</th>\n",
       "      <td>KALOLENI</td>\n",
       "      <td>13</td>\n",
       "      <td>14.14</td>\n",
       "      <td>14.65</td>\n",
       "      <td>-6.57</td>\n",
       "      <td>-23.91</td>\n",
       "      <td>-15.14</td>\n",
       "    </tr>\n",
       "    <tr>\n",
       "      <th>3</th>\n",
       "      <td>MALINDI</td>\n",
       "      <td>16</td>\n",
       "      <td>16.65</td>\n",
       "      <td>16.16</td>\n",
       "      <td>-1.17</td>\n",
       "      <td>-16.81</td>\n",
       "      <td>-7.23</td>\n",
       "    </tr>\n",
       "    <tr>\n",
       "      <th>4</th>\n",
       "      <td>KINANGO</td>\n",
       "      <td>10</td>\n",
       "      <td>19.17</td>\n",
       "      <td>17.62</td>\n",
       "      <td>3.52</td>\n",
       "      <td>-4.82</td>\n",
       "      <td>3.68</td>\n",
       "    </tr>\n",
       "  </tbody>\n",
       "</table>\n",
       "</div>"
      ],
      "text/plain": [
       "  constituency_name  counstituency_code  vci_aug_16  vci_sep_16  vci_nov_16  \\\n",
       "0             GANZE                  15       11.85       14.66        2.80   \n",
       "1      KILIFI NORTH                  11       12.36       16.56       -0.08   \n",
       "2          KALOLENI                  13       14.14       14.65       -6.57   \n",
       "3           MALINDI                  16       16.65       16.16       -1.17   \n",
       "4           KINANGO                  10       19.17       17.62        3.52   \n",
       "\n",
       "   vci_dec_16  vci_jan_17  \n",
       "0      -10.82        2.64  \n",
       "1      -23.20      -13.79  \n",
       "2      -23.91      -15.14  \n",
       "3      -16.81       -7.23  \n",
       "4       -4.82        3.68  "
      ]
     },
     "execution_count": 3,
     "metadata": {},
     "output_type": "execute_result"
    }
   ],
   "source": [
    "vci_df.head()"
   ]
  },
  {
   "cell_type": "code",
   "execution_count": 4,
   "metadata": {
    "collapsed": false,
    "deletable": true,
    "editable": true
   },
   "outputs": [],
   "source": [
    "january_vci = {k: v for (k, v) in zip([row.counstituency_code for index, row in vci_df.iterrows()],\n",
    "                                     [row.vci_jan_17 for index, row in vci_df.iterrows()])}"
   ]
  },
  {
   "cell_type": "code",
   "execution_count": 5,
   "metadata": {
    "collapsed": false,
    "deletable": true,
    "editable": true
   },
   "outputs": [
    {
     "data": {
      "text/html": [
       "<div>\n",
       "<table border=\"1\" class=\"dataframe\">\n",
       "  <thead>\n",
       "    <tr style=\"text-align: right;\">\n",
       "      <th></th>\n",
       "      <th>CONSTITUEN</th>\n",
       "      <th>CONST_CODE</th>\n",
       "      <th>geometry</th>\n",
       "    </tr>\n",
       "  </thead>\n",
       "  <tbody>\n",
       "    <tr>\n",
       "      <th>0</th>\n",
       "      <td>KAMUKUNJI</td>\n",
       "      <td>288.0</td>\n",
       "      <td>POLYGON ((36.87595372679757 -1.262533413477499...</td>\n",
       "    </tr>\n",
       "    <tr>\n",
       "      <th>1</th>\n",
       "      <td>WESTLANDS</td>\n",
       "      <td>274.0</td>\n",
       "      <td>POLYGON ((36.81926300479753 -1.206434634477475...</td>\n",
       "    </tr>\n",
       "    <tr>\n",
       "      <th>2</th>\n",
       "      <td>DAGORETTI NORTH</td>\n",
       "      <td>275.0</td>\n",
       "      <td>POLYGON ((36.79214315479756 -1.260847108477478...</td>\n",
       "    </tr>\n",
       "    <tr>\n",
       "      <th>3</th>\n",
       "      <td>ROYSAMBU</td>\n",
       "      <td>279.0</td>\n",
       "      <td>POLYGON ((36.90578043879756 -1.161375592477484...</td>\n",
       "    </tr>\n",
       "    <tr>\n",
       "      <th>4</th>\n",
       "      <td>STAREHE</td>\n",
       "      <td>289.0</td>\n",
       "      <td>POLYGON ((36.84274500879754 -1.264599326477466...</td>\n",
       "    </tr>\n",
       "  </tbody>\n",
       "</table>\n",
       "</div>"
      ],
      "text/plain": [
       "        CONSTITUEN  CONST_CODE  \\\n",
       "0        KAMUKUNJI       288.0   \n",
       "1        WESTLANDS       274.0   \n",
       "2  DAGORETTI NORTH       275.0   \n",
       "3         ROYSAMBU       279.0   \n",
       "4          STAREHE       289.0   \n",
       "\n",
       "                                            geometry  \n",
       "0  POLYGON ((36.87595372679757 -1.262533413477499...  \n",
       "1  POLYGON ((36.81926300479753 -1.206434634477475...  \n",
       "2  POLYGON ((36.79214315479756 -1.260847108477478...  \n",
       "3  POLYGON ((36.90578043879756 -1.161375592477484...  \n",
       "4  POLYGON ((36.84274500879754 -1.264599326477466...  "
      ]
     },
     "execution_count": 5,
     "metadata": {},
     "output_type": "execute_result"
    }
   ],
   "source": [
    "constituencies_gdf = gpd.GeoDataFrame.from_file(os.path.join(\"data\", \"constituencies.geojson\"))\n",
    "constituencies_gdf.head()"
   ]
  },
  {
   "cell_type": "code",
   "execution_count": 6,
   "metadata": {
    "collapsed": false,
    "deletable": true,
    "editable": true
   },
   "outputs": [
    {
     "data": {
      "text/html": [
       "<div>\n",
       "<table border=\"1\" class=\"dataframe\">\n",
       "  <thead>\n",
       "    <tr style=\"text-align: right;\">\n",
       "      <th></th>\n",
       "      <th>CONSTITUEN</th>\n",
       "      <th>CONST_CODE</th>\n",
       "      <th>geometry</th>\n",
       "      <th>style</th>\n",
       "    </tr>\n",
       "  </thead>\n",
       "  <tbody>\n",
       "    <tr>\n",
       "      <th>0</th>\n",
       "      <td>KAMUKUNJI</td>\n",
       "      <td>288.0</td>\n",
       "      <td>POLYGON ((36.87595372679757 -1.262533413477499...</td>\n",
       "      <td>{'fillColor': '#424242', 'color': '#000000', '...</td>\n",
       "    </tr>\n",
       "    <tr>\n",
       "      <th>1</th>\n",
       "      <td>WESTLANDS</td>\n",
       "      <td>274.0</td>\n",
       "      <td>POLYGON ((36.81926300479753 -1.206434634477475...</td>\n",
       "      <td>{'fillColor': '#424242', 'color': '#000000', '...</td>\n",
       "    </tr>\n",
       "  </tbody>\n",
       "</table>\n",
       "</div>"
      ],
      "text/plain": [
       "  CONSTITUEN  CONST_CODE                                           geometry  \\\n",
       "0  KAMUKUNJI       288.0  POLYGON ((36.87595372679757 -1.262533413477499...   \n",
       "1  WESTLANDS       274.0  POLYGON ((36.81926300479753 -1.206434634477475...   \n",
       "\n",
       "                                               style  \n",
       "0  {'fillColor': '#424242', 'color': '#000000', '...  \n",
       "1  {'fillColor': '#424242', 'color': '#000000', '...  "
      ]
     },
     "execution_count": 6,
     "metadata": {},
     "output_type": "execute_result"
    }
   ],
   "source": [
    "styles = []\n",
    "\n",
    "for row in constituencies_gdf[\"CONST_CODE\"]:\n",
    "    try:\n",
    "        vci_value = january_vci[row]\n",
    "        if vci_value >= 50:\n",
    "            styles.append({\"fillColor\": \"#0A9500\", \"weight\": 1, \"color\": \"#000000\"})\n",
    "        elif vci_value >= 35:\n",
    "            styles.append({\"fillColor\": \"#79C573\", \"weight\": 1, \"color\": \"#000000\"})\n",
    "        elif vci_value >= 21:\n",
    "            styles.append({\"fillColor\": \"#FFD819\", \"weight\": 1, \"color\": \"#000000\"})\n",
    "        elif vci_value >= 10:\n",
    "            styles.append({\"fillColor\": \"#FF8B8B\", \"weight\": 1, \"color\": \"#000000\"})\n",
    "        else:\n",
    "            styles.append({\"fillColor\": \"#FF0000\", \"weight\": 1, \"color\": \"#000000\"})\n",
    "    except KeyError:\n",
    "        styles.append({\"fillColor\": \"#424242\", \"weight\": 1, \"color\": \"#000000\"})\n",
    "\n",
    "constituencies_gdf[\"style\"] = styles\n",
    "constituencies_gdf.head(2)"
   ]
  },
  {
   "cell_type": "code",
   "execution_count": 8,
   "metadata": {
    "collapsed": false,
    "deletable": true,
    "editable": true
   },
   "outputs": [],
   "source": [
    "vci_map = folium.Map([\n",
    "    np.mean([row.geometry.centroid.y for index, row in constituencies_gdf.iterrows()]), \n",
    "    np.mean([row.geometry.centroid.x for index, row in constituencies_gdf.iterrows()])], \n",
    "    zoom_start = 6,\n",
    "    tiles = None)\n",
    "\n",
    "folium.GeoJson(constituencies_gdf).add_to(vci_map)\n",
    "\n",
    "FloatImage(\"legend.png\", bottom = 30, left = 75).add_to(vci_map)\n",
    "\n",
    "vci_map.save(os.path.join(\"html_files\", \"constituencies_no_tiles.html\"))"
   ]
  },
  {
   "cell_type": "code",
   "execution_count": 9,
   "metadata": {
    "collapsed": false,
    "deletable": true,
    "editable": true
   },
   "outputs": [],
   "source": [
    "vci_map = folium.Map([\n",
    "    np.mean([row.geometry.centroid.y for index, row in constituencies_gdf.iterrows()]), \n",
    "    np.mean([row.geometry.centroid.x for index, row in constituencies_gdf.iterrows()])], \n",
    "    zoom_start = 6,\n",
    "    tiles = \"Cartodb Positron\")\n",
    "\n",
    "folium.GeoJson(constituencies_gdf).add_to(vci_map)\n",
    "\n",
    "FloatImage(\"legend.png\", bottom = 30, left = 75).add_to(vci_map)\n",
    "\n",
    "vci_map.save(os.path.join(\"html_files\", \"constituencies_without_markers.html\"))"
   ]
  },
  {
   "cell_type": "code",
   "execution_count": 10,
   "metadata": {
    "collapsed": true
   },
   "outputs": [],
   "source": [
    "vci_map = folium.Map([\n",
    "    np.mean([row.geometry.centroid.y for index, row in constituencies_gdf.iterrows()]), \n",
    "    np.mean([row.geometry.centroid.x for index, row in constituencies_gdf.iterrows()])], \n",
    "    zoom_start = 6,\n",
    "    tiles = \"Cartodb Positron\")\n",
    "\n",
    "folium.GeoJson(constituencies_gdf).add_to(vci_map)\n",
    "\n",
    "FloatImage(\"legend.png\", bottom = 30, left = 75).add_to(vci_map)\n",
    "\n",
    "vci_map.add_child(MarkerCluster(locations=list(zip([row.geometry.centroid.y for index, row in constituencies_gdf.iterrows()], \n",
    "                                                   [row.geometry.centroid.x  for index, row in constituencies_gdf.iterrows()])), \n",
    "                                popups=[row.CONSTITUEN for index, row in constituencies_gdf.iterrows()]))\n",
    "\n",
    "vci_map.save(os.path.join(\"html_files\", \"constituencies_with_markers.html\"))"
   ]
  },
  {
   "cell_type": "code",
   "execution_count": 11,
   "metadata": {
    "collapsed": true
   },
   "outputs": [],
   "source": [
    "parks_df = pd.read_csv(os.path.join(\"data\", \"parks_reserves.csv\"))"
   ]
  },
  {
   "cell_type": "code",
   "execution_count": 12,
   "metadata": {
    "collapsed": true
   },
   "outputs": [],
   "source": [
    "vci_map = folium.Map([\n",
    "    np.mean([row.geometry.centroid.y for index, row in constituencies_gdf.iterrows()]), \n",
    "    np.mean([row.geometry.centroid.x for index, row in constituencies_gdf.iterrows()])], \n",
    "    zoom_start = 6,\n",
    "    tiles = \"Cartodb Positron\")\n",
    "\n",
    "folium.GeoJson(constituencies_gdf).add_to(vci_map)\n",
    "\n",
    "FloatImage(\"legend.png\", bottom = 30, left = 75).add_to(vci_map)\n",
    "\n",
    "vci_map.add_child(MarkerCluster(locations=list(zip([row.lat for index, row in parks_df.iterrows()], \n",
    "                                                  [row.lon  for index, row in parks_df.iterrows()])), \n",
    "                               popups=[row[\"name\"] for index, row in parks_df.iterrows()]))\n",
    "\n",
    "HeatMap(list(zip([row.lat for index, row in parks_df.iterrows()], \n",
    "                 [row.lon  for index, row in parks_df.iterrows()]))).add_to(vci_map)\n",
    "\n",
    "vci_map.save(os.path.join(\"html_files\", \"constituencies_with_reserves_heatmap.html\"))"
   ]
  },
  {
   "cell_type": "code",
   "execution_count": 14,
   "metadata": {
    "collapsed": true
   },
   "outputs": [],
   "source": [
    "vci_map = folium.Map([\n",
    "    np.mean([row.geometry.centroid.y for index, row in constituencies_gdf.iterrows()]), \n",
    "    np.mean([row.geometry.centroid.x for index, row in constituencies_gdf.iterrows()])], \n",
    "    zoom_start = 6,\n",
    "    tiles = \"Cartodb Positron\")\n",
    "\n",
    "folium.GeoJson(constituencies_gdf).add_to(vci_map)\n",
    "\n",
    "#FloatImage(\"legend.png\", bottom = 30, left = 75).add_to(vci_map)\n",
    "\n",
    "#vci_map.add_child(MarkerCluster(locations=list(zip([row.lat for index, row in parks_df.iterrows()], \n",
    "#                                                  [row.lon  for index, row in parks_df.iterrows()])), \n",
    "#                               popups=[row[\"name\"] for index, row in parks_df.iterrows()]))\n",
    "\n",
    "HeatMap(list(zip([row.lat for index, row in parks_df.iterrows()], \n",
    "                 [row.lon  for index, row in parks_df.iterrows()]))).add_to(vci_map)\n",
    "\n",
    "vci_map.save(os.path.join(\"html_files\", \"constituencies_with_reserves_heatmap_unclustered.html\"))"
   ]
  },
  {
   "cell_type": "code",
   "execution_count": null,
   "metadata": {
    "collapsed": true
   },
   "outputs": [],
   "source": []
  }
 ],
 "metadata": {
  "kernelspec": {
   "display_name": "Python 3",
   "language": "python",
   "name": "python3"
  },
  "language_info": {
   "codemirror_mode": {
    "name": "ipython",
    "version": 3
   },
   "file_extension": ".py",
   "mimetype": "text/x-python",
   "name": "python",
   "nbconvert_exporter": "python",
   "pygments_lexer": "ipython3",
   "version": "3.4.4"
  }
 },
 "nbformat": 4,
 "nbformat_minor": 2
}
