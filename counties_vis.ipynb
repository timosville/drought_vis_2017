{
 "cells": [
  {
   "cell_type": "code",
   "execution_count": 18,
   "metadata": {
    "collapsed": true,
    "deletable": true,
    "editable": true
   },
   "outputs": [],
   "source": [
    "import os\n",
    "import pandas as pd\n",
    "import geopandas as gpd\n",
    "import numpy as np\n",
    "import folium\n",
    "from folium.plugins import MarkerCluster, HeatMap"
   ]
  },
  {
   "cell_type": "code",
   "execution_count": 2,
   "metadata": {
    "collapsed": true,
    "deletable": true,
    "editable": true
   },
   "outputs": [],
   "source": [
    "vci_df = pd.read_csv(os.path.join(\"data\", \"vci_county.csv\"))"
   ]
  },
  {
   "cell_type": "code",
   "execution_count": 5,
   "metadata": {
    "collapsed": false,
    "deletable": true,
    "editable": true
   },
   "outputs": [],
   "source": [
    "january_vci = {k: v for (k, v) in zip([row.county_code for index, row in vci_df.iterrows()],\n",
    "                                     [row.vci_jan_17 for index, row in vci_df.iterrows()])}"
   ]
  },
  {
   "cell_type": "code",
   "execution_count": 6,
   "metadata": {
    "collapsed": true,
    "deletable": true,
    "editable": true
   },
   "outputs": [],
   "source": [
    "counties_gdf = gpd.GeoDataFrame.from_file(os.path.join(\"data\", \"counties.geojson\"))"
   ]
  },
  {
   "cell_type": "code",
   "execution_count": 7,
   "metadata": {
    "collapsed": false,
    "deletable": true,
    "editable": true
   },
   "outputs": [
    {
     "data": {
      "text/html": [
       "<div>\n",
       "<table border=\"1\" class=\"dataframe\">\n",
       "  <thead>\n",
       "    <tr style=\"text-align: right;\">\n",
       "      <th></th>\n",
       "      <th>COUNTY_COD</th>\n",
       "      <th>COUNTY_NAM</th>\n",
       "      <th>geometry</th>\n",
       "      <th>style</th>\n",
       "    </tr>\n",
       "  </thead>\n",
       "  <tbody>\n",
       "    <tr>\n",
       "      <th>0</th>\n",
       "      <td>47</td>\n",
       "      <td>NAIROBI</td>\n",
       "      <td>POLYGON ((36.90458259248316 -1.160707895679255...</td>\n",
       "      <td>{'weight': 1, 'color': '#000000', 'fillColor':...</td>\n",
       "    </tr>\n",
       "    <tr>\n",
       "      <th>1</th>\n",
       "      <td>1</td>\n",
       "      <td>MOMBASA</td>\n",
       "      <td>POLYGON ((39.68311072648316 -4.060742933679253...</td>\n",
       "      <td>{'weight': 1, 'color': '#000000', 'fillColor':...</td>\n",
       "    </tr>\n",
       "  </tbody>\n",
       "</table>\n",
       "</div>"
      ],
      "text/plain": [
       "   COUNTY_COD COUNTY_NAM                                           geometry  \\\n",
       "0          47    NAIROBI  POLYGON ((36.90458259248316 -1.160707895679255...   \n",
       "1           1    MOMBASA  POLYGON ((39.68311072648316 -4.060742933679253...   \n",
       "\n",
       "                                               style  \n",
       "0  {'weight': 1, 'color': '#000000', 'fillColor':...  \n",
       "1  {'weight': 1, 'color': '#000000', 'fillColor':...  "
      ]
     },
     "execution_count": 7,
     "metadata": {},
     "output_type": "execute_result"
    }
   ],
   "source": [
    "styles = []\n",
    "\n",
    "for row in counties_gdf[\"COUNTY_COD\"]:\n",
    "    try:\n",
    "        vci_value = january_vci[row]\n",
    "        if vci_value >= 50:\n",
    "            styles.append({\"fillColor\": \"#0A9500\", \"weight\": 1, \"color\": \"#000000\"})\n",
    "        elif vci_value >= 35:\n",
    "            styles.append({\"fillColor\": \"#79C573\", \"weight\": 1, \"color\": \"#000000\"})\n",
    "        elif vci_value >= 21:\n",
    "            styles.append({\"fillColor\": \"#FFD819\", \"weight\": 1, \"color\": \"#000000\"})\n",
    "        elif vci_value >= 10:\n",
    "            styles.append({\"fillColor\": \"#FF8B8B\", \"weight\": 1, \"color\": \"#000000\"})\n",
    "        else:\n",
    "            styles.append({\"fillColor\": \"#FF0000\", \"weight\": 1, \"color\": \"#000000\"})\n",
    "    except KeyError:\n",
    "        styles.append({\"fillColor\": \"#424242\", \"weight\": 1, \"color\": \"#000000\"})\n",
    "\n",
    "counties_gdf[\"style\"] = styles\n",
    "counties_gdf.head(2)"
   ]
  },
  {
   "cell_type": "code",
   "execution_count": 13,
   "metadata": {
    "collapsed": true,
    "deletable": true,
    "editable": true
   },
   "outputs": [],
   "source": [
    "vci_map = folium.Map([\n",
    "    np.mean([row.geometry.centroid.y for index, row in counties_gdf.iterrows()]), \n",
    "    np.mean([row.geometry.centroid.x for index, row in counties_gdf.iterrows()])], \n",
    "    zoom_start = 6,\n",
    "    tiles = \"Cartodb Positron\")"
   ]
  },
  {
   "cell_type": "code",
   "execution_count": 11,
   "metadata": {
    "collapsed": true,
    "deletable": true,
    "editable": true
   },
   "outputs": [],
   "source": [
    "folium.GeoJson(counties_gdf).add_to(vci_map)\n",
    "\n",
    "vci_map.add_child(MarkerCluster(locations=list(zip([row.geometry.centroid.y for index, row in counties_gdf.iterrows()], \n",
    "                                                  [row.geometry.centroid.x  for index, row in counties_gdf.iterrows()])), \n",
    "                               popups=[row.COUNTY_NAM for index, row in counties_gdf.iterrows()]))\n",
    "\n",
    "vci_map.save(os.path.join(\"html_files\", \"counties_with_markers.html\"))"
   ]
  },
  {
   "cell_type": "code",
   "execution_count": 16,
   "metadata": {
    "collapsed": false,
    "deletable": true,
    "editable": true
   },
   "outputs": [
    {
     "data": {
      "text/html": [
       "<div>\n",
       "<table border=\"1\" class=\"dataframe\">\n",
       "  <thead>\n",
       "    <tr style=\"text-align: right;\">\n",
       "      <th></th>\n",
       "      <th>name</th>\n",
       "      <th>lon</th>\n",
       "      <th>lat</th>\n",
       "    </tr>\n",
       "  </thead>\n",
       "  <tbody>\n",
       "    <tr>\n",
       "      <th>0</th>\n",
       "      <td>ABERDARE NATIONAL PARK</td>\n",
       "      <td>36.666699</td>\n",
       "      <td>-0.416903</td>\n",
       "    </tr>\n",
       "    <tr>\n",
       "      <th>1</th>\n",
       "      <td>AMBOSELI NATIONAL PARK</td>\n",
       "      <td>37.260767</td>\n",
       "      <td>-2.652016</td>\n",
       "    </tr>\n",
       "    <tr>\n",
       "      <th>2</th>\n",
       "      <td>BISANADI NATIONAL RESERVE</td>\n",
       "      <td>37.536946</td>\n",
       "      <td>0.614835</td>\n",
       "    </tr>\n",
       "  </tbody>\n",
       "</table>\n",
       "</div>"
      ],
      "text/plain": [
       "                        name        lon       lat\n",
       "0     ABERDARE NATIONAL PARK  36.666699 -0.416903\n",
       "1     AMBOSELI NATIONAL PARK  37.260767 -2.652016\n",
       "2  BISANADI NATIONAL RESERVE  37.536946  0.614835"
      ]
     },
     "execution_count": 16,
     "metadata": {},
     "output_type": "execute_result"
    }
   ],
   "source": [
    "parks_df = pd.read_csv(os.path.join(\"data\", \"parks_reserves.csv\"))\n",
    "parks_df.head(3)"
   ]
  },
  {
   "cell_type": "code",
   "execution_count": 20,
   "metadata": {
    "collapsed": true,
    "deletable": true,
    "editable": true
   },
   "outputs": [],
   "source": [
    "folium.GeoJson(counties_gdf).add_to(vci_map)\n",
    "\n",
    "vci_map.add_child(MarkerCluster(locations=list(zip([row.lat for index, row in parks_df.iterrows()], \n",
    "                                                  [row.lon  for index, row in parks_df.iterrows()])), \n",
    "                               popups=[row[\"name\"] for index, row in parks_df.iterrows()]))\n",
    "\n",
    "HeatMap(list(zip([row.lat for index, row in parks_df.iterrows()], [row.lon  for index, row in parks_df.iterrows()]))).add_to(vci_map)\n",
    "\n",
    "vci_map.save(os.path.join(\"html_files\", \"counties_with_reserves_heatmap.html\"))"
   ]
  },
  {
   "cell_type": "code",
   "execution_count": 19,
   "metadata": {
    "collapsed": false,
    "deletable": true,
    "editable": true
   },
   "outputs": [
    {
     "data": {
      "text/plain": [
       "[(-0.4169027, 36.6666989),\n",
       " (-2.6520157, 37.260767200000004),\n",
       " (0.6148346, 37.5369462),\n",
       " (3.4958943, 36.0384292),\n",
       " (-2.55143, 37.79738),\n",
       " (-0.885566, 36.30621),\n",
       " (0.2827307, 34.7518631),\n",
       " (-4.713888900000001, 39.3622222),\n",
       " (-0.12137619999999999, 34.7451773),\n",
       " (-0.1750904, 38.7368187),\n",
       " (0.05792819999999999, 34.1587576),\n",
       " (-0.3666667, 36.0833333),\n",
       " (-0.3675685, 34.6289539),\n",
       " (-3.2596385, 40.133754100000004),\n",
       " (2.1752901000000002, 37.9572703),\n",
       " (0.0880828, 38.1899782),\n",
       " (-4.0276795, 39.7394919),\n",
       " (1.1057833000000001, 34.50861870000001),\n",
       " (-0.1666667, 37.45),\n",
       " (-0.8894277, 36.4749527),\n",
       " (-0.8233975, 37.6173695),\n",
       " (-0.2944383, 38.232202799999996),\n",
       " (-1.3666667, 36.8333333),\n",
       " (1.8286474999999998, 35.4124355),\n",
       " (-0.2062263, 34.5112934),\n",
       " (-1.1411699, 37.265108399999995),\n",
       " (-0.6460521, 34.275498799999994),\n",
       " (1.0971600000000001, 35.11937),\n",
       " (-4.2572222, 39.3877778),\n",
       " (4.0118049, 36.3498097),\n",
       " (2.6411805, 36.5985945),\n",
       " (-2.1833332999999997, 38.4166667),\n",
       " (-2.9166667, 37.9166667),\n",
       " (-3.3660566, 39.9504275)]"
      ]
     },
     "execution_count": 19,
     "metadata": {},
     "output_type": "execute_result"
    }
   ],
   "source": []
  },
  {
   "cell_type": "code",
   "execution_count": null,
   "metadata": {
    "collapsed": true,
    "deletable": true,
    "editable": true
   },
   "outputs": [],
   "source": []
  }
 ],
 "metadata": {
  "kernelspec": {
   "display_name": "Python 3",
   "language": "python",
   "name": "python3"
  },
  "language_info": {
   "codemirror_mode": {
    "name": "ipython",
    "version": 3
   },
   "file_extension": ".py",
   "mimetype": "text/x-python",
   "name": "python",
   "nbconvert_exporter": "python",
   "pygments_lexer": "ipython3",
   "version": "3.4.4"
  }
 },
 "nbformat": 4,
 "nbformat_minor": 2
}
