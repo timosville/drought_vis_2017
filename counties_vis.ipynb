{
 "cells": [
  {
   "cell_type": "code",
   "execution_count": 1,
   "metadata": {
    "collapsed": true,
    "deletable": true,
    "editable": true
   },
   "outputs": [],
   "source": [
    "import os\n",
    "import pandas as pd\n",
    "import geopandas as gpd\n",
    "import numpy as np\n",
    "import folium\n",
    "from folium.plugins import MarkerCluster, HeatMap"
   ]
  },
  {
   "cell_type": "code",
   "execution_count": 2,
   "metadata": {
    "collapsed": true,
    "deletable": true,
    "editable": true
   },
   "outputs": [],
   "source": [
    "vci_df = pd.read_csv(os.path.join(\"data\", \"vci_county.csv\"))"
   ]
  },
  {
   "cell_type": "code",
   "execution_count": 3,
   "metadata": {
    "collapsed": false,
    "deletable": true,
    "editable": true
   },
   "outputs": [],
   "source": [
    "january_vci = {k: v for (k, v) in zip([row.county_code for index, row in vci_df.iterrows()],\n",
    "                                     [row.vci_jan_17 for index, row in vci_df.iterrows()])}"
   ]
  },
  {
   "cell_type": "code",
   "execution_count": 5,
   "metadata": {
    "collapsed": true,
    "deletable": true,
    "editable": true
   },
   "outputs": [],
   "source": [
    "counties_gdf = gpd.GeoDataFrame.from_file(os.path.join(\"data\", \"counties.geojson\"))"
   ]
  },
  {
   "cell_type": "code",
   "execution_count": 6,
   "metadata": {
    "collapsed": false,
    "deletable": true,
    "editable": true
   },
   "outputs": [
    {
     "data": {
      "text/html": [
       "<div>\n",
       "<table border=\"1\" class=\"dataframe\">\n",
       "  <thead>\n",
       "    <tr style=\"text-align: right;\">\n",
       "      <th></th>\n",
       "      <th>COUNTY_COD</th>\n",
       "      <th>COUNTY_NAM</th>\n",
       "      <th>geometry</th>\n",
       "      <th>style</th>\n",
       "    </tr>\n",
       "  </thead>\n",
       "  <tbody>\n",
       "    <tr>\n",
       "      <th>0</th>\n",
       "      <td>47</td>\n",
       "      <td>NAIROBI</td>\n",
       "      <td>POLYGON ((36.90458259248316 -1.160707895679255...</td>\n",
       "      <td>{'fillColor': '#424242', 'color': '#000000', '...</td>\n",
       "    </tr>\n",
       "    <tr>\n",
       "      <th>1</th>\n",
       "      <td>1</td>\n",
       "      <td>MOMBASA</td>\n",
       "      <td>POLYGON ((39.68311072648316 -4.060742933679253...</td>\n",
       "      <td>{'fillColor': '#424242', 'color': '#000000', '...</td>\n",
       "    </tr>\n",
       "  </tbody>\n",
       "</table>\n",
       "</div>"
      ],
      "text/plain": [
       "   COUNTY_COD COUNTY_NAM                                           geometry  \\\n",
       "0          47    NAIROBI  POLYGON ((36.90458259248316 -1.160707895679255...   \n",
       "1           1    MOMBASA  POLYGON ((39.68311072648316 -4.060742933679253...   \n",
       "\n",
       "                                               style  \n",
       "0  {'fillColor': '#424242', 'color': '#000000', '...  \n",
       "1  {'fillColor': '#424242', 'color': '#000000', '...  "
      ]
     },
     "execution_count": 6,
     "metadata": {},
     "output_type": "execute_result"
    }
   ],
   "source": [
    "styles = []\n",
    "\n",
    "for row in counties_gdf[\"COUNTY_COD\"]:\n",
    "    try:\n",
    "        vci_value = january_vci[row]\n",
    "        if vci_value >= 50:\n",
    "            styles.append({\"fillColor\": \"#0A9500\", \"weight\": 1, \"color\": \"#000000\"})\n",
    "        elif vci_value >= 35:\n",
    "            styles.append({\"fillColor\": \"#79C573\", \"weight\": 1, \"color\": \"#000000\"})\n",
    "        elif vci_value >= 21:\n",
    "            styles.append({\"fillColor\": \"#FFD819\", \"weight\": 1, \"color\": \"#000000\"})\n",
    "        elif vci_value >= 10:\n",
    "            styles.append({\"fillColor\": \"#FF8B8B\", \"weight\": 1, \"color\": \"#000000\"})\n",
    "        else:\n",
    "            styles.append({\"fillColor\": \"#FF0000\", \"weight\": 1, \"color\": \"#000000\"})\n",
    "    except KeyError:\n",
    "        styles.append({\"fillColor\": \"#424242\", \"weight\": 1, \"color\": \"#000000\"})\n",
    "\n",
    "counties_gdf[\"style\"] = styles\n",
    "counties_gdf.head(2)"
   ]
  },
  {
   "cell_type": "code",
   "execution_count": 11,
   "metadata": {
    "collapsed": true,
    "deletable": true,
    "editable": true
   },
   "outputs": [],
   "source": [
    "vci_map = folium.Map([\n",
    "    np.mean([row.geometry.centroid.y for index, row in counties_gdf.iterrows()]), \n",
    "    np.mean([row.geometry.centroid.x for index, row in counties_gdf.iterrows()])], \n",
    "    zoom_start = 6,\n",
    "    tiles = \"Cartodb Positron\")"
   ]
  },
  {
   "cell_type": "code",
   "execution_count": 11,
   "metadata": {
    "collapsed": true,
    "deletable": true,
    "editable": true
   },
   "outputs": [],
   "source": [
    "folium.GeoJson(counties_gdf).add_to(vci_map)\n",
    "\n",
    "vci_map.add_child(MarkerCluster(locations=list(zip([row.geometry.centroid.y for index, row in counties_gdf.iterrows()], \n",
    "                                                  [row.geometry.centroid.x  for index, row in counties_gdf.iterrows()])), \n",
    "                               popups=[row.COUNTY_NAM for index, row in counties_gdf.iterrows()]))\n",
    "\n",
    "vci_map.save(os.path.join(\"html_files\", \"counties_with_markers.html\"))"
   ]
  },
  {
   "cell_type": "code",
   "execution_count": 9,
   "metadata": {
    "collapsed": false,
    "deletable": true,
    "editable": true
   },
   "outputs": [
    {
     "data": {
      "text/html": [
       "<div>\n",
       "<table border=\"1\" class=\"dataframe\">\n",
       "  <thead>\n",
       "    <tr style=\"text-align: right;\">\n",
       "      <th></th>\n",
       "      <th>name</th>\n",
       "      <th>lon</th>\n",
       "      <th>lat</th>\n",
       "    </tr>\n",
       "  </thead>\n",
       "  <tbody>\n",
       "    <tr>\n",
       "      <th>0</th>\n",
       "      <td>SIBILOI NATIONAL PARK</td>\n",
       "      <td>36.349810</td>\n",
       "      <td>4.011805</td>\n",
       "    </tr>\n",
       "    <tr>\n",
       "      <th>1</th>\n",
       "      <td>CENTRAL ISLAND NATIONAL PARK</td>\n",
       "      <td>36.038429</td>\n",
       "      <td>3.495894</td>\n",
       "    </tr>\n",
       "    <tr>\n",
       "      <th>2</th>\n",
       "      <td>SOUTH ISLAND NATIONAL PARK</td>\n",
       "      <td>36.598594</td>\n",
       "      <td>2.641180</td>\n",
       "    </tr>\n",
       "  </tbody>\n",
       "</table>\n",
       "</div>"
      ],
      "text/plain": [
       "                           name        lon       lat\n",
       "0         SIBILOI NATIONAL PARK  36.349810  4.011805\n",
       "1  CENTRAL ISLAND NATIONAL PARK  36.038429  3.495894\n",
       "2    SOUTH ISLAND NATIONAL PARK  36.598594  2.641180"
      ]
     },
     "execution_count": 9,
     "metadata": {},
     "output_type": "execute_result"
    }
   ],
   "source": [
    "parks_df = pd.read_csv(os.path.join(\"data\", \"parks_reserves.csv\"))\n",
    "parks_df.head(3)"
   ]
  },
  {
   "cell_type": "code",
   "execution_count": 10,
   "metadata": {
    "collapsed": true,
    "deletable": true,
    "editable": true
   },
   "outputs": [],
   "source": [
    "folium.GeoJson(counties_gdf).add_to(vci_map)\n",
    "\n",
    "vci_map.add_child(MarkerCluster(locations=list(zip([row.lat for index, row in parks_df.iterrows()], \n",
    "                                                  [row.lon  for index, row in parks_df.iterrows()])), \n",
    "                               popups=[row[\"name\"] for index, row in parks_df.iterrows()]))\n",
    "\n",
    "HeatMap(list(zip([row.lat for index, row in parks_df.iterrows()], [row.lon  for index, row in parks_df.iterrows()]))).add_to(vci_map)\n",
    "\n",
    "vci_map.save(os.path.join(\"html_files\", \"counties_with_reserves_heatmap.html\"))"
   ]
  },
  {
   "cell_type": "code",
   "execution_count": 12,
   "metadata": {
    "collapsed": true,
    "deletable": true,
    "editable": true
   },
   "outputs": [],
   "source": [
    "folium.GeoJson(counties_gdf).add_to(vci_map)\n",
    "\n",
    "#vci_map.add_child(MarkerCluster(locations=list(zip([row.lat for index, row in parks_df.iterrows()], \n",
    "#                                                  [row.lon  for index, row in parks_df.iterrows()])), \n",
    "#                               popups=[row[\"name\"] for index, row in parks_df.iterrows()]))\n",
    "\n",
    "HeatMap(list(zip([row.lat for index, row in parks_df.iterrows()], [row.lon  for index, row in parks_df.iterrows()]))).add_to(vci_map)\n",
    "\n",
    "vci_map.save(os.path.join(\"html_files\", \"counties_with_reserves_heatmap_non_cluster.html\"))"
   ]
  },
  {
   "cell_type": "code",
   "execution_count": null,
   "metadata": {
    "collapsed": true
   },
   "outputs": [],
   "source": []
  }
 ],
 "metadata": {
  "kernelspec": {
   "display_name": "Python 3",
   "language": "python",
   "name": "python3"
  },
  "language_info": {
   "codemirror_mode": {
    "name": "ipython",
    "version": 3
   },
   "file_extension": ".py",
   "mimetype": "text/x-python",
   "name": "python",
   "nbconvert_exporter": "python",
   "pygments_lexer": "ipython3",
   "version": "3.4.4"
  }
 },
 "nbformat": 4,
 "nbformat_minor": 2
}
